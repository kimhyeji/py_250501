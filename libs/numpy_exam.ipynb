{
 "cells": [
  {
   "cell_type": "code",
   "execution_count": 3,
   "id": "e15b9b1a",
   "metadata": {},
   "outputs": [
    {
     "name": "stdout",
     "output_type": "stream",
     "text": [
      "<class 'numpy.ndarray'>\n",
      "<class 'list'>\n"
     ]
    }
   ],
   "source": [
    "# ndArray\n",
    "\n",
    "import numpy as np\n",
    "\n",
    "# 다차원 배열의 생성 역할\n",
    "# 1차원 ndArray 생성\n",
    "np.array([1, 2, 3, 4])\n",
    "\n",
    "arr1 = np.array([1, 2, 3, 4]) # 넘파이 ndArray\n",
    "arr2 = [1, 2, 3, 4] # 파이썬 리스트\n",
    "\n",
    "print(type(arr1)) # 넘파이로 이루어진 다차원 배열\n",
    "print(type(arr2)) # 그냥 리스트 형태"
   ]
  },
  {
   "cell_type": "code",
   "execution_count": 14,
   "id": "896c3232",
   "metadata": {},
   "outputs": [
    {
     "name": "stdout",
     "output_type": "stream",
     "text": [
      "2차원 배열 arr2\n",
      "[[1 2 3 4]\n",
      " [5 6 7 8]]\n",
      "3차원 배열 arr3\n",
      "[[[0.1 0.2 0.3 0.4]\n",
      "  [1.  2.  3.  4. ]]\n",
      "\n",
      " [[1.  2.  3.  4. ]\n",
      "  [1.  2.  3.  4. ]]]\n"
     ]
    }
   ],
   "source": [
    "# 2차원 ndArray 생성\n",
    "# 1차원 배열 두개가 리스트로 묶인 형태가 2차원 배열이다.\n",
    "arr2 = np.array([[1,2,3,4], \n",
    "                 [5,6,7,8]])\n",
    "\n",
    "# 3차원 ndArray 생성\n",
    "arr3 = np.array([[[0.1,0.2,0.3,0.4], [1,2,3,4]], \n",
    "                 [[1,2,3,4], [1,2,3,4]]])\n",
    "\n",
    "print(\"2차원 배열 arr2\")\n",
    "print(arr2)\n",
    "\n",
    "print(\"3차원 배열 arr3\")\n",
    "print(arr3)"
   ]
  },
  {
   "cell_type": "code",
   "execution_count": null,
   "id": "8ac5046f",
   "metadata": {},
   "outputs": [
    {
     "name": "stdout",
     "output_type": "stream",
     "text": [
      "1\n",
      "2\n",
      "3\n",
      "(4,)\n",
      "(2, 4)\n",
      "(2, 2, 4)\n",
      "4\n",
      "8\n",
      "16\n",
      "int64\n",
      "int64\n",
      "float64\n"
     ]
    }
   ],
   "source": [
    "# ndim : 몇 차원 배열인지를 알려줌\n",
    "print(arr1.ndim)\n",
    "print(arr2.ndim)\n",
    "print(arr3.ndim)\n",
    "\n",
    "# shape : 배열의 형태를 알려줌\n",
    "print(arr1.shape) # 4개의 열\n",
    "print(arr2.shape) # 행 2개, 열 4개\n",
    "print(arr3.shape) # 2 * 2 * 4\n",
    "\n",
    "# size : 요소의 개수\n",
    "print(arr1.size)\n",
    "print(arr2.size)\n",
    "print(arr3.size)\n",
    "\n",
    "# dtype : 요소의 타입\n",
    "print(arr1.dtype)\n",
    "print(arr2.dtype)\n",
    "print(arr3.dtype)"
   ]
  },
  {
   "cell_type": "code",
   "execution_count": 22,
   "id": "06bdd7e7",
   "metadata": {},
   "outputs": [
    {
     "name": "stdout",
     "output_type": "stream",
     "text": [
      "[[0 0 0 0]\n",
      " [0 0 0 0]]\n",
      "[[1 1 1 1]\n",
      " [1 1 1 1]]\n",
      "[[2 2 2 2]\n",
      " [2 2 2 2]]\n"
     ]
    }
   ],
   "source": [
    "# 제로스 : 요소를 0으로 채워진 행렬\n",
    "np.zeros((3,4))\n",
    "\n",
    "# 원스 : 요소를 1로 채워진 행렬\n",
    "np.ones((2, 3, 4))\n",
    "\n",
    "# full : i 값으로 채워진 행렬(임의의 숫자) \n",
    "np.full((4,4), 3)\n",
    "\n",
    "# like : 다른 배열의 모양을 본따 만듦\n",
    "print(np.zeros_like(arr2))\n",
    "print(np.ones_like(arr2))\n",
    "print(np.full_like(arr2, 2))"
   ]
  },
  {
   "cell_type": "code",
   "execution_count": null,
   "id": "890e655d",
   "metadata": {},
   "outputs": [
    {
     "data": {
      "text/plain": [
       "array([[[8, 8, 6],\n",
       "        [2, 8, 7]],\n",
       "\n",
       "       [[2, 1, 5],\n",
       "        [4, 4, 5]]], dtype=int32)"
      ]
     },
     "execution_count": 50,
     "metadata": {},
     "output_type": "execute_result"
    }
   ],
   "source": [
    "# random : 난수 발생\n",
    "\n",
    "np.random.randint(-100, 100, (2, 3))\n",
    "np.random.seed(1) # 난수를 발생시킨 시점 저장\n",
    "np.random.seed(2)\n",
    "\n",
    "np.random.randint(0, 10, (2, 2, 3))"
   ]
  },
  {
   "cell_type": "code",
   "execution_count": 70,
   "id": "e4ca3daa",
   "metadata": {},
   "outputs": [
    {
     "name": "stdout",
     "output_type": "stream",
     "text": [
      "2\n",
      "7\n"
     ]
    },
    {
     "data": {
      "text/plain": [
       "array([3, 4])"
      ]
     },
     "execution_count": 70,
     "metadata": {},
     "output_type": "execute_result"
    }
   ],
   "source": [
    "# 인덱싱\n",
    "li = [1, 2, 3, 4]\n",
    "li[0]\n",
    "\n",
    "# 1차원 배열의 인덱싱\n",
    "arr1[0] # 한개 접근\n",
    "# 1차원 슬라이싱\n",
    "# arr1[시작:끝:보폭]\n",
    "# arr1[1:5:1] // 1에서 5까지 1씩\n",
    "arr1[1:2:]\n",
    "\n",
    "# 2차원 배열의 인덱싱\n",
    "print(arr2[0, 1])\n",
    "print(arr2[1, 2])\n",
    "# 2차원 슬라이싱\n",
    "arr2[1:2:,1:3:]\n",
    "\n",
    "# fancy 인덱싱 : 원하는 인덱스를 배열로 넘겨주는 인덱싱\n",
    "# 1차원\n",
    "arr1[[0,1,3]]\n",
    "# 2차원\n",
    "arr2[[0,1],[1, 3]]\n",
    "# fancy + 슬라이싱\n",
    "arr2[::,[0, 3]]\n",
    "\n",
    "# 논리값 인덱싱\n",
    "arr1[[True, False, True, False]]\n",
    "arr1[arr1 > 2]"
   ]
  }
 ],
 "metadata": {
  "kernelspec": {
   "display_name": "Python 3",
   "language": "python",
   "name": "python3"
  },
  "language_info": {
   "codemirror_mode": {
    "name": "ipython",
    "version": 3
   },
   "file_extension": ".py",
   "mimetype": "text/x-python",
   "name": "python",
   "nbconvert_exporter": "python",
   "pygments_lexer": "ipython3",
   "version": "3.13.3"
  }
 },
 "nbformat": 4,
 "nbformat_minor": 5
}
