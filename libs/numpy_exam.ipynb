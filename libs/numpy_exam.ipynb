{
 "cells": [
  {
   "cell_type": "code",
   "execution_count": null,
   "id": "e15b9b1a",
   "metadata": {},
   "outputs": [
    {
     "name": "stdout",
     "output_type": "stream",
     "text": [
      "<class 'numpy.ndarray'>\n",
      "<class 'list'>\n"
     ]
    }
   ],
   "source": [
    "# ndArray\n",
    "\n",
    "import numpy as np\n",
    "\n",
    "# 다차원 배열의 생성 역할\n",
    "# 1차원 ndArray 생성\n",
    "np.array([1, 2, 3, 4])\n",
    "\n",
    "arr1 = np.array([1, 2, 3, 4]) # 넘파이 ndArray\n",
    "arr2 = [1, 2, 3, 4] # 파이썬 리스트\n",
    "\n",
    "print(type(arr1)) # 넘파이로 이루어진 다차원 배열\n",
    "print(type(arr2)) # 그냥 리스트 형태"
   ]
  },
  {
   "cell_type": "code",
   "execution_count": 6,
   "id": "896c3232",
   "metadata": {},
   "outputs": [
    {
     "name": "stdout",
     "output_type": "stream",
     "text": [
      "2차원 배열 arr2\n",
      "[[1 2 3 4]\n",
      " [5 6 7 8]]\n",
      "3차원 배열 arr3\n",
      "[[[1 2 3 4]\n",
      "  [1 2 3 4]]\n",
      "\n",
      " [[1 2 3 4]\n",
      "  [1 2 3 4]]]\n"
     ]
    }
   ],
   "source": [
    "# 2차원 ndArray 생성\n",
    "# 1차원 배열 두개가 리스트로 묶인 형태가 2차원 배열이다.\n",
    "arr2 = np.array([[1,2,3,4], \n",
    "                 [5,6,7,8]])\n",
    "\n",
    "# 3차원 ndArray 생성\n",
    "arr3 = np.array([[[1,2,3,4], [1,2,3,4]], \n",
    "                 [[1,2,3,4], [1,2,3,4]]])\n",
    "\n",
    "print(\"2차원 배열 arr2\")\n",
    "print(arr2)\n",
    "\n",
    "print(\"3차원 배열 arr3\")\n",
    "print(arr3)"
   ]
  }
 ],
 "metadata": {
  "kernelspec": {
   "display_name": "Python 3",
   "language": "python",
   "name": "python3"
  },
  "language_info": {
   "codemirror_mode": {
    "name": "ipython",
    "version": 3
   },
   "file_extension": ".py",
   "mimetype": "text/x-python",
   "name": "python",
   "nbconvert_exporter": "python",
   "pygments_lexer": "ipython3",
   "version": "3.13.3"
  }
 },
 "nbformat": 4,
 "nbformat_minor": 5
}
