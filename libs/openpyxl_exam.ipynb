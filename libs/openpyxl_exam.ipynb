{
 "cells": [
  {
   "cell_type": "code",
   "execution_count": 8,
   "id": "d3526016",
   "metadata": {},
   "outputs": [],
   "source": [
    "# openpyxl => 파이썬에서 엑셀 파일을 읽고 쓰기 위한 라이브러리\n",
    "\n",
    "# openpyxl의 모든 기능을 불러옴\n",
    "from openpyxl import *\n",
    "\n",
    "w1 = Workbook()\n",
    "# 새로운 엑셀 파일 객체 생성.\n",
    "# 가장 먼저 해야 할 기본 작업\n",
    "\n",
    "ws = w1.active\n",
    "w1.save(\"test.xlsx\") # 엑셀 파일 저장\n",
    "\n",
    "w2 = load_workbook('test.xlsx') # 기존에 저장한 test.xlsx 파일 열기\n",
    "ws2 = w2.active # 불러온 엑셀 파일의 기본 시트를 선택해서 작업 준비\n",
    "\n",
    "ws2[\"A1\"] = \"hello\"\n",
    "w2.save(\"test.xlsx\")\n",
    "\n",
    "ws2[\"C3\"] = \"Python\"\n",
    "w2.save(\"test.xlsx\")\n",
    "\n",
    "a = \"Python\"\n",
    "for row in ws2[\"D5\":\"F8\"]:\n",
    "  for cell in row:\n",
    "    cell.value = a\n",
    "w2.save(\"test.xlsx\")\n",
    "\n",
    "num = 1\n",
    "for row in ws2[\"A1\":\"C3\"]:\n",
    "  for cell in row:\n",
    "    cell.value = num\n",
    "    num += 1\n",
    "w2.save(\"test.xlsx\")"
   ]
  },
  {
   "cell_type": "code",
   "execution_count": null,
   "id": "576688d2",
   "metadata": {},
   "outputs": [],
   "source": [
    "# 엑셀 시트 생성 및 이름 설정\n",
    "\n",
    "# 새로운 시트 생성\n",
    "newws = w2.create_sheet()\n",
    "\n",
    "# 생성한 시트의 이름 변경\n",
    "# 새로 만든 시트의 이름을 변경\n",
    "newws.title = '마지막시트'\n",
    "\n",
    "w2.create_sheet(\"1번시트\", 0)\n",
    "# 원하는 위치(index)에 원하는 이름으로 시트 생성\n",
    "\n",
    "w2.save(\"test.xlsx\")"
   ]
  },
  {
   "cell_type": "code",
   "execution_count": 26,
   "id": "456a1165",
   "metadata": {},
   "outputs": [],
   "source": [
    "# 튜플 리스트 차이점\n",
    "\n",
    "# 리스트이름 = [요소 1, 2, 3, 4]\n",
    "# 튜플이름 = [요소 1, 2, 3, 4]\n",
    "\n",
    "# print(리스트이름[0])\n",
    "# print(튜플이름[0])\n",
    "\n",
    "# 리스트는 수정 가능\n",
    "# 리스트이름[0] = 값\n",
    "\n",
    "# 튜플은 수정 불가능\n",
    "# 튜플이름[0] = 값\n",
    "\n",
    "item1 = {\"품목\" : \"바나나\", \"가격\" : \"5000\", \"수량\" : 1, \"날짜\" : \"2025년 05월 08일\"}\n",
    "item2 = {\"품목\" : \"커피\", \"가격\" : \"3000\", \"수량\" : 2, \"날짜\" : \"2025년 09월 09일\"}\n",
    "item3 = {\"품목\" : \"책\", \"가격\" : \"15000\", \"수량\" : 3, \"날짜\" : \"2025년 04월 10일\"}\n",
    "item4 = {\"품목\" : \"펜\", \"가격\" : \"1000\", \"수량\" : 4, \"날짜\" : \"2025년 06월 11일\"}\n",
    "\n",
    "items = [item1, item2, item3, item4]\n",
    "\n",
    "from openpyxl import Workbook\n",
    "wb = Workbook()\n",
    "ws = wb.active\n",
    "ws[\"A1\"] = \"품목\"\n",
    "ws[\"B1\"] = \"가격\"\n",
    "ws[\"C1\"] = \"수량\"\n",
    "ws[\"D1\"] = \"날짜\"\n",
    "\n",
    "i = 2\n",
    "for item in items:\n",
    "  ws[\"A\" + str(i)] = item[\"품목\"]\n",
    "  ws[\"B\" + str(i)] = item[\"가격\"]\n",
    "  ws[\"C\" + str(i)] = item[\"수량\"]\n",
    "  ws[\"D\" + str(i)] = item[\"날짜\"]\n",
    "  i += 1\n",
    "\n",
    "wb.save(\"test2.xlsx\")"
   ]
  },
  {
   "cell_type": "code",
   "execution_count": null,
   "id": "ed906425",
   "metadata": {},
   "outputs": [
    {
     "name": "stdout",
     "output_type": "stream",
     "text": [
      "출력\n"
     ]
    }
   ],
   "source": [
    "# 시간을 멈춰야하는 경우 파이썬에서 제공하는 time 모듈을 쓰면 된다.\n",
    "import time\n",
    "time.sleep(5)\n",
    "print(\"출력\")"
   ]
  }
 ],
 "metadata": {
  "kernelspec": {
   "display_name": "Python 3",
   "language": "python",
   "name": "python3"
  },
  "language_info": {
   "codemirror_mode": {
    "name": "ipython",
    "version": 3
   },
   "file_extension": ".py",
   "mimetype": "text/x-python",
   "name": "python",
   "nbconvert_exporter": "python",
   "pygments_lexer": "ipython3",
   "version": "3.13.3"
  }
 },
 "nbformat": 4,
 "nbformat_minor": 5
}
