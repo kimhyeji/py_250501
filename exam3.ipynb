{
 "cells": [
  {
   "cell_type": "code",
   "execution_count": null,
   "id": "f6ad9207",
   "metadata": {},
   "outputs": [
    {
     "name": "stdout",
     "output_type": "stream",
     "text": [
      "[<a class=\"sister\" href=\"http://example.com/elsie\" id=\"link1\">Elsie</a>, <a class=\"sister\" href=\"http://example.com/lacie\" id=\"link2\">Lacie</a>, <a class=\"sister\" href=\"http://example.com/tillie\" id=\"link3\">Tillie</a>]\n",
      "<a class=\"sister\" href=\"http://example.com/lacie\" id=\"link2\">Lacie</a>\n",
      "Lacie\n",
      "http://example.com/lacie\n"
     ]
    }
   ],
   "source": [
    "# requests 모듈 => 웹 페이지를 요청하고 응답 데이터를 받을 수 있음.\n",
    "import requests as req\n",
    "from bs4 import BeautifulSoup # Beautifulsoup html 해석기\n",
    "request_headers = {'User-Agent': ('Mozilla/5.0 (Windows NT 10.0;Win64; x64)AppleWebKit/537.36 (KHTML, like Gecko) Chrome/71.0.3578.98Safari/537.36'), }\n",
    "# 요청 시 오류났을 땐 위 문구를 입력해주세요.\n",
    "\n",
    "response = req.get(\"https://www.naver.com/\", headers = request_headers) # 특정 사이트에 페이지를 요청, 응답 데이터 반환\n",
    "# print(response)\n",
    "\n",
    "# html을 읽어와야함\n",
    "html_doc = \"\"\"<html><head><title>The Dormouse's story</title></head>\n",
    "<body>\n",
    "<p class=\"title\"><b>The Dormouse's story</b></p>\n",
    "\n",
    "<p class=\"story\">Once upon a time there were three little sisters; and their names were\n",
    "<a href=\"http://example.com/elsie\" class=\"sister\" id=\"link1\">Elsie</a>,\n",
    "<a href=\"http://example.com/lacie\" class=\"sister\" id=\"link2\">Lacie</a> and\n",
    "<a href=\"http://example.com/tillie\" class=\"sister\" id=\"link3\">Tillie</a>;\n",
    "and they lived at the bottom of a well.</p>\n",
    "\n",
    "<p class=\"story\">...</p>\n",
    "\"\"\"\n",
    "# print(html_doc)\n",
    "soup = BeautifulSoup(html_doc, 'html.parser')\n",
    "# soup을 이용해서 html_doc 문자열을 파싱, 그 내용을 soup 변수로 대입\n",
    "alist = soup.select(\"a\")\n",
    "print(alist)\n",
    "print(alist[1])\n",
    "\n",
    "# 텍스트\n",
    "print(alist[1].text)\n",
    "# 속성값 가져오기 <태그명 속성명=\"속성값\">\n",
    "print(alist[1][\"href\"])\n",
    "\n",
    "# 태그 선택방법\n",
    "# 1. 태그선택\n",
    "# 2. 후손선택\n",
    "# 3. 자식선택 \n",
    "# 4. class 선택 // 속성\n",
    "# 5. id 선택 // 속성"
   ]
  },
  {
   "cell_type": "code",
   "execution_count": 20,
   "id": "11cc82ac",
   "metadata": {},
   "outputs": [
    {
     "name": "stdout",
     "output_type": "stream",
     "text": [
      "\n",
      "국힘, '조희대 특검' 추진에 \"민주주의 파괴\"\n",
      "\n"
     ]
    }
   ],
   "source": [
    "import requests as req\n",
    "from bs4 import BeautifulSoup\n",
    "\n",
    "# 특정 사이트의 페이지 요청, 응답 데이터 반환\n",
    "response = req.get(\"https://news.naver.com/\")\n",
    "# print(response.text)\n",
    "\n",
    "# html 문자열 파싱\n",
    "soup = BeautifulSoup(response.text, 'html.parser')\n",
    "\n",
    "# 텍스트 가져오기\n",
    "title = soup.select(\".cnf_news_item\")\n",
    "print(title[0].text)"
   ]
  }
 ],
 "metadata": {
  "kernelspec": {
   "display_name": "Python 3",
   "language": "python",
   "name": "python3"
  },
  "language_info": {
   "codemirror_mode": {
    "name": "ipython",
    "version": 3
   },
   "file_extension": ".py",
   "mimetype": "text/x-python",
   "name": "python",
   "nbconvert_exporter": "python",
   "pygments_lexer": "ipython3",
   "version": "3.13.3"
  }
 },
 "nbformat": 4,
 "nbformat_minor": 5
}
