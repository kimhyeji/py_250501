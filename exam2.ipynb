{
 "cells": [
  {
   "cell_type": "code",
   "execution_count": null,
   "id": "f3a3c3f4",
   "metadata": {},
   "outputs": [
    {
     "name": "stdout",
     "output_type": "stream",
     "text": [
      "c:\\work\n"
     ]
    }
   ],
   "source": [
    "# 운영체제 모듈 불러오기\n",
    "import os\n",
    "# 현재 디렉토리를 알려주는 함수\n",
    "print(os.getcwd())"
   ]
  },
  {
   "cell_type": "code",
   "execution_count": null,
   "id": "352ca2e9",
   "metadata": {},
   "outputs": [
    {
     "name": "stdout",
     "output_type": "stream",
     "text": [
      "C:\\Temp\n",
      "C:\\work\n"
     ]
    },
    {
     "name": "stderr",
     "output_type": "stream",
     "text": [
      "<>:1: SyntaxWarning: invalid escape sequence '\\T'\n",
      "<>:5: SyntaxWarning: invalid escape sequence '\\w'\n",
      "<>:1: SyntaxWarning: invalid escape sequence '\\T'\n",
      "<>:5: SyntaxWarning: invalid escape sequence '\\w'\n",
      "C:\\Users\\admin\\AppData\\Local\\Temp\\ipykernel_18752\\3726523754.py:1: SyntaxWarning: invalid escape sequence '\\T'\n",
      "  os.chdir(\"C:\\Temp\")\n",
      "C:\\Users\\admin\\AppData\\Local\\Temp\\ipykernel_18752\\3726523754.py:5: SyntaxWarning: invalid escape sequence '\\w'\n",
      "  os.chdir(\"C:\\work\")\n"
     ]
    }
   ],
   "source": [
    "# 디렉토리를 이동할 수 있게 해주는 함수\n",
    "# 한국어 인식이 안되기 때문에 웬만하면 영어로\n",
    "os.chdir(\"C:\\Temp\")\n",
    "print(os.getcwd())\n",
    "os.chdir(\"C:\\work\")\n",
    "print(os.getcwd())"
   ]
  },
  {
   "cell_type": "code",
   "execution_count": null,
   "id": "c24269d7",
   "metadata": {},
   "outputs": [
    {
     "name": "stdout",
     "output_type": "stream",
     "text": [
      ".git\n",
      "exam1.ipynb\n",
      "exam2.ipynb\n"
     ]
    },
    {
     "name": "stderr",
     "output_type": "stream",
     "text": [
      "<>:1: SyntaxWarning: invalid escape sequence '\\w'\n",
      "<>:4: SyntaxWarning: invalid escape sequence '\\w'\n",
      "<>:1: SyntaxWarning: invalid escape sequence '\\w'\n",
      "<>:4: SyntaxWarning: invalid escape sequence '\\w'\n",
      "C:\\Users\\admin\\AppData\\Local\\Temp\\ipykernel_18752\\3233316058.py:1: SyntaxWarning: invalid escape sequence '\\w'\n",
      "  os.listdir(\"C:\\work\")\n",
      "C:\\Users\\admin\\AppData\\Local\\Temp\\ipykernel_18752\\3233316058.py:4: SyntaxWarning: invalid escape sequence '\\w'\n",
      "  for i in os.listdir(\"C:\\work\"):\n"
     ]
    }
   ],
   "source": [
    "# 입력한 경로의 파일과 폴더 목록을 리스트로 반환하는 함수\n",
    "os.listdir(\"C:\\work\")\n",
    "\n",
    "# 리스트에 있는 요소 하나씩 출력\n",
    "for i in os.listdir(\"C:\\work\"):\n",
    "  print(i)"
   ]
  },
  {
   "cell_type": "code",
   "execution_count": null,
   "id": "d3883c42",
   "metadata": {},
   "outputs": [
    {
     "name": "stdout",
     "output_type": "stream",
     "text": [
      "False\n",
      "True\n"
     ]
    },
    {
     "name": "stderr",
     "output_type": "stream",
     "text": [
      "<>:1: SyntaxWarning: invalid escape sequence '\\w'\n",
      "<>:2: SyntaxWarning: invalid escape sequence '\\w'\n",
      "<>:1: SyntaxWarning: invalid escape sequence '\\w'\n",
      "<>:2: SyntaxWarning: invalid escape sequence '\\w'\n",
      "C:\\Users\\admin\\AppData\\Local\\Temp\\ipykernel_18752\\377674205.py:1: SyntaxWarning: invalid escape sequence '\\w'\n",
      "  print(os.path.exists(\"C:\\work\\py_test1\"))\n",
      "C:\\Users\\admin\\AppData\\Local\\Temp\\ipykernel_18752\\377674205.py:2: SyntaxWarning: invalid escape sequence '\\w'\n",
      "  print(os.path.exists(\"C:\\work\\py_test2\"))\n"
     ]
    }
   ],
   "source": [
    "# 특정 폴더가 존재하는지 안하는지 판단해주는 함수\n",
    "print(os.path.exists(\"C:\\work\\py_test1\"))\n",
    "print(os.path.exists(\"C:\\work\\py_test2\"))"
   ]
  },
  {
   "cell_type": "code",
   "execution_count": null,
   "id": "e76c433c",
   "metadata": {},
   "outputs": [
    {
     "name": "stderr",
     "output_type": "stream",
     "text": [
      "<>:5: SyntaxWarning: invalid escape sequence '\\w'\n",
      "<>:5: SyntaxWarning: invalid escape sequence '\\w'\n",
      "C:\\Users\\admin\\AppData\\Local\\Temp\\ipykernel_18752\\2519412209.py:5: SyntaxWarning: invalid escape sequence '\\w'\n",
      "  os.makedirs(\"C:\\work\\py_test3\\py_test3_1\")\n"
     ]
    }
   ],
   "source": [
    "# 폴더를 만들어주는 함수\n",
    "os.mkdir(\"py_test2\")\n",
    "\n",
    "# 새로운 폴더와 그 하위 폴더까지 만들어주는 함수\n",
    "os.makedirs(\"C:\\work\\py_test3\\py_test3_1\")"
   ]
  },
  {
   "cell_type": "code",
   "execution_count": null,
   "id": "9a2bc6cb",
   "metadata": {},
   "outputs": [
    {
     "name": "stderr",
     "output_type": "stream",
     "text": [
      "<>:5: SyntaxWarning: invalid escape sequence '\\w'\n",
      "<>:5: SyntaxWarning: invalid escape sequence '\\w'\n",
      "C:\\Users\\admin\\AppData\\Local\\Temp\\ipykernel_18752\\1930970551.py:5: SyntaxWarning: invalid escape sequence '\\w'\n",
      "  os.removedirs(\"C:\\work\\py_test3\\py_test3_1\")\n"
     ]
    }
   ],
   "source": [
    "# 폴더를 삭제해주는 함수\n",
    "os.rmdir(\"C:\\work\\py_test2\")\n",
    "\n",
    "# 여러개의 폴더를 삭제해주는 함수\n",
    "os.removedirs(\"C:\\work\\py_test3\\py_test3_1\")\n",
    "# rmdir(), removedirs() 두 함수를 쓸 땐 모두 폴더가 비어있어야함."
   ]
  }
 ],
 "metadata": {
  "kernelspec": {
   "display_name": "Python 3",
   "language": "python",
   "name": "python3"
  },
  "language_info": {
   "codemirror_mode": {
    "name": "ipython",
    "version": 3
   },
   "file_extension": ".py",
   "mimetype": "text/x-python",
   "name": "python",
   "nbconvert_exporter": "python",
   "pygments_lexer": "ipython3",
   "version": "3.13.3"
  }
 },
 "nbformat": 4,
 "nbformat_minor": 5
}
